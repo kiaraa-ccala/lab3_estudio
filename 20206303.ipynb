{
 "cells": [
  {
   "cell_type": "code",
   "execution_count": 8,
   "metadata": {},
   "outputs": [
    {
     "name": "stdout",
     "output_type": "stream",
     "text": [
      "Overwriting mul_esc_vec.c\n"
     ]
    }
   ],
   "source": [
    "%%file mul_esc_vec.c\n",
    "void mul_esc_vec(int *a, int b, int *c, int N){\n",
    "    for (int i = 0; i<N;i++)\n",
    "    {\n",
    "        c[i] = b*a[i];\n",
    "    }    \n",
    "}"
   ]
  },
  {
   "cell_type": "code",
   "execution_count": 11,
   "metadata": {},
   "outputs": [],
   "source": [
    "! gcc -Os -c mul_esc_vec.c -o mul_esc_vec.o"
   ]
  },
  {
   "cell_type": "code",
   "execution_count": 12,
   "metadata": {},
   "outputs": [
    {
     "name": "stdout",
     "output_type": "stream",
     "text": [
      "\n",
      "mul_esc_vec.o:     file format elf64-x86-64\n",
      "\n",
      "\n",
      "Disassembly of section .text:\n",
      "\n",
      "0000000000000000 <mul_esc_vec>:\n",
      "   0:\tf3 0f 1e fa          \tendbr64 \n",
      "   4:\t31 c0                \txor    eax,eax\n",
      "   6:\t39 c1                \tcmp    ecx,eax\n",
      "   8:\t7e 11                \tjle    1b <mul_esc_vec+0x1b>\n",
      "   a:\t44 8b 04 87          \tmov    r8d,DWORD PTR [rdi+rax*4]\n",
      "   e:\t44 0f af c6          \timul   r8d,esi\n",
      "  12:\t44 89 04 82          \tmov    DWORD PTR [rdx+rax*4],r8d\n",
      "  16:\t48 ff c0             \tinc    rax\n",
      "  19:\teb eb                \tjmp    6 <mul_esc_vec+0x6>\n",
      "  1b:\tc3                   \tret    \n"
     ]
    }
   ],
   "source": [
    "! objdump -M intel -j .text -D mul_esc_vec.o"
   ]
  },
  {
   "cell_type": "code",
   "execution_count": 14,
   "metadata": {},
   "outputs": [
    {
     "name": "stdout",
     "output_type": "stream",
     "text": [
      "Overwriting sumaFor.c\n"
     ]
    }
   ],
   "source": [
    "%%file sumaFor.c\n",
    "void sumaFor(float *rdi, int esi, float xmm0, float xmm1){\n",
    "    for(int i=0; i < esi; i++){\n",
    "        float xmm2 = i;\n",
    "        xmm2=xmm2*xmm0;\n",
    "        xmm2 = xmm1+xmm2;\n",
    "        rdi[i] = xmm2;\n",
    "    }\n",
    "}"
   ]
  },
  {
   "cell_type": "code",
   "execution_count": 15,
   "metadata": {},
   "outputs": [],
   "source": [
    "! gcc -Os -c  sumaFor.c -o  sumaFor.o"
   ]
  },
  {
   "cell_type": "code",
   "execution_count": 16,
   "metadata": {},
   "outputs": [
    {
     "name": "stdout",
     "output_type": "stream",
     "text": [
      "\n",
      "sumaFor.o:     file format elf64-x86-64\n",
      "\n",
      "\n",
      "Disassembly of section .text:\n",
      "\n",
      "0000000000000000 <sumaFor>:\n",
      "   0:\tf3 0f 1e fa          \tendbr64 \n",
      "   4:\t31 c0                \txor    eax,eax\n",
      "   6:\t39 c6                \tcmp    esi,eax\n",
      "   8:\t7e 16                \tjle    20 <sumaFor+0x20>\n",
      "   a:\tf3 0f 2a d0          \tcvtsi2ss xmm2,eax\n",
      "   e:\tf3 0f 59 d0          \tmulss  xmm2,xmm0\n",
      "  12:\tf3 0f 58 d1          \taddss  xmm2,xmm1\n",
      "  16:\tf3 0f 11 14 87       \tmovss  DWORD PTR [rdi+rax*4],xmm2\n",
      "  1b:\t48 ff c0             \tinc    rax\n",
      "  1e:\teb e6                \tjmp    6 <sumaFor+0x6>\n",
      "  20:\tc3                   \tret    \n"
     ]
    }
   ],
   "source": [
    "! objdump -M intel -j .text -D  sumaFor.o"
   ]
  },
  {
   "cell_type": "code",
   "execution_count": null,
   "metadata": {},
   "outputs": [],
   "source": []
  }
 ],
 "metadata": {
  "kernelspec": {
   "display_name": "Python 3",
   "language": "python",
   "name": "python3"
  },
  "language_info": {
   "codemirror_mode": {
    "name": "ipython",
    "version": 3
   },
   "file_extension": ".py",
   "mimetype": "text/x-python",
   "name": "python",
   "nbconvert_exporter": "python",
   "pygments_lexer": "ipython3",
   "version": "3.8.16"
  }
 },
 "nbformat": 4,
 "nbformat_minor": 2
}
