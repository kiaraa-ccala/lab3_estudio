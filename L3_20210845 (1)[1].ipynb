{
  "cells": [
    {
      "cell_type": "markdown",
      "metadata": {
        "id": "CYTJZG1vObTf"
      },
      "source": [
        "# (15 puntos) Laboratorio 3\n",
        "## Indicaciones:\n",
        "\n",
        "*   La evaluación es estrictamente personal.\n",
        "*   Debe resolver todo el cuestionario en el presente cuaderno virtual.\n",
        "*   Debe renombrar el archivo como L3_CODIGOPUCP.ipynb, siendo CODIGOPUCP su código PUCP. No debe colocar literalmente CODIGOPUCP.\n",
        "*   Debe mantener una redacción adecuada y libre de errores ortográficos.\n",
        "* Cualquier incumplimiento de las indicaciones amerita una penalización en su nota\n",
        "\n"
      ]
    },
    {
      "cell_type": "markdown",
      "metadata": {
        "id": "GI6IhBSRArh-"
      },
      "source": [
        "## (5 puntos) Pregunta 1\n",
        "Se le brinda el siguiente código en C:\n",
        "\n",
        "\n"
      ]
    },
    {
      "cell_type": "code",
      "execution_count": 3,
      "metadata": {
        "colab": {
          "base_uri": "https://localhost:8080/"
        },
        "id": "PDo4xk96DP3Z",
        "outputId": "4185e4bf-982c-4c16-cc81-3c743010bf57"
      },
      "outputs": [
        {
          "name": "stdout",
          "output_type": "stream",
          "text": [
            "Writing funcion.c\n"
          ]
        }
      ],
      "source": [
        "%%file funcion.c\n",
        "int funcion(int *arreglo, int tam, int num) {\n",
        "    for(int i = 0; i < tam; i++) {\n",
        "        if(arreglo[i] == num) {\n",
        "            return i;\n",
        "        }\n",
        "    }\n",
        "    return -1;\n",
        "}"
      ]
    },
    {
      "cell_type": "markdown",
      "metadata": {
        "id": "JOJQ9tacEPt2"
      },
      "source": [
        "Se le pide:\n",
        "\n",
        "a) (2.5 puntos) Utilizar la bandera de optimización `-Os` y describir línea por línea el código desensamblado\n",
        "\n",
        "b) (2.5 puntos) Hallar el número de instrucciones totales. Generalizar el número de instrucciones para cualquier valor en la variable `tam`"
      ]
    },
    {
      "cell_type": "markdown",
      "metadata": {
        "id": "dtugGxAsJJnX"
      },
      "source": [
        "Resolucion de a): primero usaremos el comando de bande -Os para la optimizacion\n"
      ]
    },
    {
      "cell_type": "code",
      "execution_count": 4,
      "metadata": {
        "id": "26d-VyLZJSfW"
      },
      "outputs": [],
      "source": [
        "! gcc -Os -c funcion.c -o funcion.o\n"
      ]
    },
    {
      "cell_type": "code",
      "execution_count": 5,
      "metadata": {
        "colab": {
          "base_uri": "https://localhost:8080/"
        },
        "id": "b3qPfGyEJkWf",
        "outputId": "ae5ae1d9-f0a6-48b4-86a6-35da174b6080"
      },
      "outputs": [
        {
          "name": "stdout",
          "output_type": "stream",
          "text": [
            "\n",
            "funcion.o:     file format elf64-x86-64\n",
            "\n",
            "\n",
            "Disassembly of section .text:\n",
            "\n",
            "0000000000000000 <funcion>:\n",
            "   0:\tf3 0f 1e fa          \tendbr64 \n",
            "   4:\t31 c0                \txor    eax,eax\n",
            "   6:\t41 89 c0             \tmov    r8d,eax\n",
            "   9:\t39 c6                \tcmp    esi,eax\n",
            "   b:\t7e 0b                \tjle    18 <funcion+0x18>\n",
            "   d:\t48 ff c0             \tinc    rax\n",
            "  10:\t39 54 87 fc          \tcmp    DWORD PTR [rdi+rax*4-0x4],edx\n",
            "  14:\t75 f0                \tjne    6 <funcion+0x6>\n",
            "  16:\teb 04                \tjmp    1c <funcion+0x1c>\n",
            "  18:\t41 83 c8 ff          \tor     r8d,0xffffffff\n",
            "  1c:\t44 89 c0             \tmov    eax,r8d\n",
            "  1f:\tc3                   \tret    \n"
          ]
        }
      ],
      "source": [
        "! objdump -M intel -j .text -D funcion.o\n"
      ]
    },
    {
      "cell_type": "markdown",
      "metadata": {
        "id": "o_Vxvyh9JsA-"
      },
      "source": [
        "1.Lectura de la linea 0x0: Podemos observar la medida de seguridad de Intel CET, lo que nos previene de ataques manipulando el flujo  de control del programa.\n"
      ]
    },
    {
      "cell_type": "markdown",
      "metadata": {
        "id": "S_f_SAlEKIH4"
      },
      "source": [
        "2.Lectura de la linea 0x4: Podemos ver la depuracion con el comando xor  donde eax xor eax=0 (valor inicial)\n"
      ]
    },
    {
      "cell_type": "markdown",
      "metadata": {
        "id": "Vb-kKT4fKasv"
      },
      "source": [
        "3.Lectura de la linea 0x6: Movemos(copiamos) el valor de eax a r8d"
      ]
    },
    {
      "cell_type": "markdown",
      "metadata": {
        "id": "hlvieGA3Kx74"
      },
      "source": [
        "4.Lectura de la linea 0x9: Comparamos el valor de eax con esi"
      ]
    },
    {
      "cell_type": "markdown",
      "metadata": {
        "id": "mRMEKW7DLFhw"
      },
      "source": [
        "5.Lectura de la linea 0xb: esta linea esta relacionada con la anteior ya que con el jle si la comparacion cumple o no con el jle saltara a la linea 0x18 o seguir a la siguiente line 0xd."
      ]
    },
    {
      "cell_type": "markdown",
      "metadata": {
        "id": "OmldZM4PLaGo"
      },
      "source": [
        "6.Lectura de la linea 0xd: el comando nos sirve para sumar +1, en este caso sumo +1 al rax\n",
        "\n"
      ]
    },
    {
      "cell_type": "markdown",
      "metadata": {
        "id": "ymsqS3AQLoGZ"
      },
      "source": [
        "7.Lectura de la linea 0x10: comparamos el valor del edx con la direccion del arreglo."
      ]
    },
    {
      "cell_type": "markdown",
      "metadata": {
        "id": "OpThEwRpL8eS"
      },
      "source": [
        "8.Lectura de la linea 0x14: con la linea anterior si cumple la condicion jne o no producira un salto a la linea 0x6 o seguira con la siguiente linea de codigo."
      ]
    },
    {
      "cell_type": "markdown",
      "metadata": {
        "id": "ht1KGD9QMO-5"
      },
      "source": [
        "9.Lectura de la linea 0x16:en este caso esta relacionado con la lineas anteiores en caso de que se cumpla la condicion en la linea 0x10 y que no cumpla la condicion en la linea 0x14(lo que procede a no saltar sino a pasar a la siguiente linea de codigo ) y toparse con jmp y en caso de que no cumpla pasara a la siguiente linea  de codigo o saltara a la linea 0x1c"
      ]
    },
    {
      "cell_type": "markdown",
      "metadata": {
        "id": "4CNcu0I3M6p8"
      },
      "source": [
        "10.Lectura de la linea 0x18: hace un \"or\" para 0xffffffff y r8d, donde el resultado dependera de su valor  y la logica \"or\""
      ]
    },
    {
      "cell_type": "markdown",
      "metadata": {
        "id": "ZAZpBaDfN1Zl"
      },
      "source": [
        "11.Lectura de la linea 0x1c: Mueve(copia) el valor de r8d al eax"
      ]
    },
    {
      "cell_type": "markdown",
      "metadata": {
        "id": "idJdR9v-OA7V"
      },
      "source": [
        "12:: Implica el retorno a la función principal."
      ]
    },
    {
      "cell_type": "markdown",
      "metadata": {
        "id": "KrqpB45WMTOx"
      },
      "source": [
        "b) (2.5 puntos) Hallar el número de instrucciones totales. Generalizar el número de instrucciones para cualquier valor en la variable `tam`"
      ]
    },
    {
      "cell_type": "markdown",
      "metadata": {
        "id": "vT43tejiOTHn"
      },
      "source": [
        "Para esto primero tomaremos el caso para N=0 , vemos que el #instrucciones es igual a 8\n",
        "N=1, vemos que el #instrucciones es 17, por lo tanto la formula seria de 8+9N que aplicaria para todo N"
      ]
    },
    {
      "cell_type": "markdown",
      "metadata": {
        "id": "8XmmKYmZFVzH"
      },
      "source": [
        "## (5 puntos) Pregunta 2\n",
        "Se le brinda el siguiente código en lenguaje ensamblador"
      ]
    },
    {
      "cell_type": "markdown",
      "metadata": {
        "id": "vNaiyuMQHaN2"
      },
      "source": [
        "```text\n",
        "Disassembly of section .text:\n",
        "\n",
        "0000000000000000 <funcion2>:\n",
        "   0:\tf3 0f 1e fa          \tendbr64\n",
        "   4:\t31 c0                \txor    eax,eax\n",
        "   6:\t45 31 c0             \txor    r8d,r8d\n",
        "   9:\t39 c7                \tcmp    edi,eax\n",
        "   b:\t7e 0d                \tjle    1a <funcion2+0x1a>\n",
        "   d:\t39 34 82             \tcmp    DWORD PTR [rdx+rax*4],esi\n",
        "  10:\t75 03                \tjne    15 <funcion2+0x15>\n",
        "  12:\t41 ff c0             \tinc    r8d\n",
        "  15:\t48 ff c0             \tinc    rax\n",
        "  18:\teb ef                \tjmp    9 <funcion2+0x9>\n",
        "  1a:\t44 89 c0             \tmov    eax,r8d\n",
        "  1d:\tc3                   \tret\n",
        "  ```"
      ]
    },
    {
      "cell_type": "code",
      "execution_count": 109,
      "metadata": {
        "colab": {
          "base_uri": "https://localhost:8080/",
          "height": 106
        },
        "id": "DdqvL2-9brz6",
        "outputId": "f48874c9-ad35-4a32-aa62-0f5d922cf084"
      },
      "outputs": [
        {
          "ename": "SyntaxError",
          "evalue": "invalid syntax (<ipython-input-109-e4ee729e453e>, line 1)",
          "output_type": "error",
          "traceback": [
            "\u001b[0;36m  File \u001b[0;32m\"<ipython-input-109-e4ee729e453e>\"\u001b[0;36m, line \u001b[0;32m1\u001b[0m\n\u001b[0;31m    int funcion2(int *a, int N, int c); prototipo de la funcion\u001b[0m\n\u001b[0m        ^\u001b[0m\n\u001b[0;31mSyntaxError\u001b[0m\u001b[0;31m:\u001b[0m invalid syntax\n"
          ]
        }
      ],
      "source": [
        "%%file funcion2.c\n",
        "\n",
        "int funcion2(int a_1, int *N, int c_1); prototipo de la funcion"
      ]
    },
    {
      "cell_type": "code",
      "execution_count": 183,
      "metadata": {
        "colab": {
          "base_uri": "https://localhost:8080/"
        },
        "id": "BUg8KFQIQf07",
        "outputId": "94c1d870-31c3-42f8-cce5-10f36fe14404"
      },
      "outputs": [
        {
          "name": "stdout",
          "output_type": "stream",
          "text": [
            "Overwriting funcion2.c\n"
          ]
        }
      ],
      "source": [
        "%%file funcion21.c \n",
        "int funcion2(int *rdx, int edi, int esi) {\n",
        "    int r8d = 0;  // Inicializa el contador\n",
        "    for (int eax = 0; eax < edi; eax++) {\n",
        "        if (rdx[eax] == esi) {  // Compara el valor del arreglo con el valor dado\n",
        "            r8d++;  // Incrementa el contador si hay una coincidencia\n",
        "        }\n",
        "    }\n",
        "    return r8d;  // Devuelve el contador\n",
        "}\n",
        "\n"
      ]
    },
    {
      "cell_type": "code",
      "execution_count": 184,
      "metadata": {
        "id": "na0clFBZRmeF"
      },
      "outputs": [],
      "source": [
        "! gcc -Os -c funcion2.c -o funcion2.o\n"
      ]
    },
    {
      "cell_type": "code",
      "execution_count": 185,
      "metadata": {
        "colab": {
          "base_uri": "https://localhost:8080/"
        },
        "id": "jqQ_LR_fRml0",
        "outputId": "5e86288d-e7f9-4cb9-d300-a37b52baeb94"
      },
      "outputs": [
        {
          "name": "stdout",
          "output_type": "stream",
          "text": [
            "\n",
            "funcion2.o:     file format elf64-x86-64\n",
            "\n",
            "\n",
            "Disassembly of section .text:\n",
            "\n",
            "0000000000000000 <funcion2>:\n",
            "   0:\tf3 0f 1e fa          \tendbr64 \n",
            "   4:\t31 c0                \txor    eax,eax\n",
            "   6:\t39 d7                \tcmp    edi,edx\n",
            "   8:\t75 12                \tjne    1c <funcion2+0x1c>\n",
            "   a:\t39 f8                \tcmp    eax,edi\n",
            "   c:\t7e 0e                \tjle    1c <funcion2+0x1c>\n",
            "   e:\t48 63 d0             \tmovsxd rdx,eax\n",
            "  11:\t39 04 96             \tcmp    DWORD PTR [rsi+rdx*4],eax\n",
            "  14:\t75 02                \tjne    18 <funcion2+0x18>\n",
            "  16:\tff c0                \tinc    eax\n",
            "  18:\tff c0                \tinc    eax\n",
            "  1a:\teb ee                \tjmp    a <funcion2+0xa>\n",
            "  1c:\t31 c0                \txor    eax,eax\n",
            "  1e:\tc3                   \tret    \n"
          ]
        }
      ],
      "source": [
        "! objdump -M intel -j .text -D funcion2.o\n"
      ]
    },
    {
      "cell_type": "markdown",
      "metadata": {
        "id": "MYZigZpMHrWH"
      },
      "source": [
        "Se le pide:\n",
        "\n",
        "a) (2.5 puntos) Colocar el prototipo de la función\n",
        "\n",
        "b) (2.5 puntos) Colocar el equivalente de la función en lenguaje C"
      ]
    },
    {
      "cell_type": "markdown",
      "metadata": {
        "id": "JeuhmpIYI0GW"
      },
      "source": [
        "## (5 puntos) Pregunta 3\n",
        "\n",
        "Se le brinda la siguiente función en C:"
      ]
    },
    {
      "cell_type": "code",
      "execution_count": 62,
      "metadata": {
        "colab": {
          "base_uri": "https://localhost:8080/"
        },
        "id": "FNgoSvJoJ5Ru",
        "outputId": "1e736b05-183c-46b7-e537-39c6a0f8776d"
      },
      "outputs": [
        {
          "name": "stdout",
          "output_type": "stream",
          "text": [
            "Writing funcion3.c\n"
          ]
        }
      ],
      "source": [
        "%%file funcion3.c\n",
        "float sumaYClasifica(float *arreglo, int tam) {\n",
        "    float suma = 0.0;\n",
        "    for(int i = 0; i < tam; i++) {\n",
        "        suma += arreglo[i]; // Suma los elementos del arreglo\n",
        "    }\n",
        "\n",
        "    if(suma < 50.0) {\n",
        "        return arreglo[0];\n",
        "    } else  {\n",
        "        return arreglo[tam-1];\n",
        "    }\n",
        "}"
      ]
    },
    {
      "cell_type": "markdown",
      "metadata": {
        "id": "cV0VIiBpMO0m"
      },
      "source": [
        "Se le pide:\n",
        "\n",
        "a) (1.0 punto) Desensamblar el código utilizando las banderas de optimización `-Os` y `-O1`\n",
        "\n",
        "b) (4.0 puntos) Comparar el número de instrucciones para un tamaño igual a 4 elementos. Comentar las principales diferencias entre los desensambles. Indicar qué código ha generado mayor número de instrucciones y si este resultado se mantiene para un tamaño mayor a 4.\n"
      ]
    },
    {
      "cell_type": "markdown",
      "metadata": {
        "id": "e5HqWgh6VonS"
      },
      "source": [
        "a) para -Os"
      ]
    },
    {
      "cell_type": "code",
      "execution_count": 63,
      "metadata": {
        "id": "EMxWHM7SVrhA"
      },
      "outputs": [],
      "source": [
        "! gcc -Os -c funcion3.c -o funcion3.o\n"
      ]
    },
    {
      "cell_type": "code",
      "execution_count": 64,
      "metadata": {
        "colab": {
          "base_uri": "https://localhost:8080/"
        },
        "id": "7Mds1DOKVzKK",
        "outputId": "8df4f33d-6a59-4628-f1b8-7344fce6bc7b"
      },
      "outputs": [
        {
          "name": "stdout",
          "output_type": "stream",
          "text": [
            "\n",
            "funcion3.o:     file format elf64-x86-64\n",
            "\n",
            "\n",
            "Disassembly of section .text:\n",
            "\n",
            "0000000000000000 <sumaYClasifica>:\n",
            "   0:\tf3 0f 1e fa          \tendbr64 \n",
            "   4:\t31 c0                \txor    eax,eax\n",
            "   6:\t0f 57 c0             \txorps  xmm0,xmm0\n",
            "   9:\t39 c6                \tcmp    esi,eax\n",
            "   b:\t7e 0a                \tjle    17 <sumaYClasifica+0x17>\n",
            "   d:\tf3 0f 58 04 87       \taddss  xmm0,DWORD PTR [rdi+rax*4]\n",
            "  12:\t48 ff c0             \tinc    rax\n",
            "  15:\teb f2                \tjmp    9 <sumaYClasifica+0x9>\n",
            "  17:\tf3 0f 10 0d 00 00 00 \tmovss  xmm1,DWORD PTR [rip+0x0]        # 1f <sumaYClasifica+0x1f>\n",
            "  1e:\t00 \n",
            "  1f:\t0f 2f c8             \tcomiss xmm1,xmm0\n",
            "  22:\t76 05                \tjbe    29 <sumaYClasifica+0x29>\n",
            "  24:\tf3 0f 10 07          \tmovss  xmm0,DWORD PTR [rdi]\n",
            "  28:\tc3                   \tret    \n",
            "  29:\t48 63 f6             \tmovsxd rsi,esi\n",
            "  2c:\tf3 0f 10 44 b7 fc    \tmovss  xmm0,DWORD PTR [rdi+rsi*4-0x4]\n",
            "  32:\tc3                   \tret    \n"
          ]
        }
      ],
      "source": [
        "! objdump -M intel -j .text -D funcion3.o\n"
      ]
    },
    {
      "cell_type": "markdown",
      "metadata": {
        "id": "-Uoxqig8WCai"
      },
      "source": [
        "a)"
      ]
    },
    {
      "cell_type": "code",
      "execution_count": 67,
      "metadata": {
        "id": "XsB2zgWdV8aC"
      },
      "outputs": [],
      "source": [
        "! gcc -O1 -c funcion3.c -o funcion3.o\n"
      ]
    },
    {
      "cell_type": "code",
      "execution_count": 68,
      "metadata": {
        "colab": {
          "base_uri": "https://localhost:8080/"
        },
        "id": "mLJujDBMV8iC",
        "outputId": "fe87b6c2-e6ad-44bc-d713-4440dfc2bcf2"
      },
      "outputs": [
        {
          "name": "stdout",
          "output_type": "stream",
          "text": [
            "\n",
            "funcion3.o:     file format elf64-x86-64\n",
            "\n",
            "\n",
            "Disassembly of section .text:\n",
            "\n",
            "0000000000000000 <sumaYClasifica>:\n",
            "   0:\tf3 0f 1e fa          \tendbr64 \n",
            "   4:\t85 f6                \ttest   esi,esi\n",
            "   6:\t7e 33                \tjle    3b <sumaYClasifica+0x3b>\n",
            "   8:\t48 89 f8             \tmov    rax,rdi\n",
            "   b:\t8d 56 ff             \tlea    edx,[rsi-0x1]\n",
            "   e:\t48 8d 54 97 04       \tlea    rdx,[rdi+rdx*4+0x4]\n",
            "  13:\t66 0f ef c0          \tpxor   xmm0,xmm0\n",
            "  17:\tf3 0f 58 00          \taddss  xmm0,DWORD PTR [rax]\n",
            "  1b:\t48 83 c0 04          \tadd    rax,0x4\n",
            "  1f:\t48 39 d0             \tcmp    rax,rdx\n",
            "  22:\t75 f3                \tjne    17 <sumaYClasifica+0x17>\n",
            "  24:\tf3 0f 10 0d 00 00 00 \tmovss  xmm1,DWORD PTR [rip+0x0]        # 2c <sumaYClasifica+0x2c>\n",
            "  2b:\t00 \n",
            "  2c:\t0f 2f c8             \tcomiss xmm1,xmm0\n",
            "  2f:\t77 0a                \tja     3b <sumaYClasifica+0x3b>\n",
            "  31:\t48 63 f6             \tmovsxd rsi,esi\n",
            "  34:\tf3 0f 10 44 b7 fc    \tmovss  xmm0,DWORD PTR [rdi+rsi*4-0x4]\n",
            "  3a:\tc3                   \tret    \n",
            "  3b:\tf3 0f 10 07          \tmovss  xmm0,DWORD PTR [rdi]\n",
            "  3f:\tc3                   \tret    \n"
          ]
        }
      ],
      "source": [
        "! objdump -M intel -j .text -D funcion3.o\n"
      ]
    },
    {
      "cell_type": "markdown",
      "metadata": {
        "id": "k0A35-SMWIqu"
      },
      "source": [
        "b)"
      ]
    },
    {
      "cell_type": "markdown",
      "metadata": {
        "id": "VmwWh4rhaZWA"
      },
      "source": [
        "Para cuando N=4, seria un total de 27 instrucciones para la bandera -Os\n",
        "\n",
        "\n",
        "\n"
      ]
    },
    {
      "cell_type": "markdown",
      "metadata": {
        "id": "y6i9onihahxQ"
      },
      "source": [
        "Para N=4, seria un total de 33 instrucciones para la bandera -O1\n"
      ]
    },
    {
      "cell_type": "markdown",
      "metadata": {
        "id": "NIa5XOWXk-4I"
      },
      "source": [
        "---Podemos observar que la para el -Os tienes menor cantidad de instrucciones que cuando usamos la bandera -O1 por otro lado tambien se puede ver que para -O1 es mas complicado la logica, ya que utiliza mas comandos lo que genera un proceso mas largo a la hora de obtener o operar los datos."
      ]
    },
    {
      "cell_type": "markdown",
      "metadata": {
        "id": "AIPXMkt0ltap"
      },
      "source": [
        "Para cuando N>4,lo que pasa es que estamos considerando la regla de correspondecia para cualquier valor de N en -Os en cambio con la relga de correspondencia de -O1 este es mas grande, por lo tanto el #de instrucciones de -Os siempre sera mas grande, donde cambiara el valor sera cuando if(suma<50),por lo cual en ese momento variara el numero de instrucciones siendo -Os mas numero de estas."
      ]
    },
    {
      "cell_type": "markdown",
      "metadata": {
        "id": "UEAtLJWanVxL"
      },
      "source": []
    }
  ],
  "metadata": {
    "colab": {
      "provenance": []
    },
    "kernelspec": {
      "display_name": "Python 3",
      "name": "python3"
    },
    "language_info": {
      "name": "python"
    }
  },
  "nbformat": 4,
  "nbformat_minor": 0
}
